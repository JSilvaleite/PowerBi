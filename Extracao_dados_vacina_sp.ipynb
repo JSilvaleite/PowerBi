{
 "cells": [
  {
   "cell_type": "markdown",
   "id": "c3c53cd2",
   "metadata": {},
   "source": [
    "# Importando bibliotecas"
   ]
  },
  {
   "cell_type": "code",
   "execution_count": 1,
   "id": "597ac6d5",
   "metadata": {},
   "outputs": [
    {
     "data": {
      "text/plain": [
       "'pt_BR.utf8'"
      ]
     },
     "execution_count": 1,
     "metadata": {},
     "output_type": "execute_result"
    }
   ],
   "source": [
    "from selenium import webdriver\n",
    "from time import sleep\n",
    "from glob import iglob\n",
    "import patoolib\n",
    "import os\n",
    "import pandas as pd\n",
    "import datetime\n",
    "import locale\n",
    "import calendar\n",
    "import glob\n",
    "locale.setlocale(locale.LC_TIME, 'pt_BR.utf8')"
   ]
  },
  {
   "cell_type": "markdown",
   "id": "95a4da8c",
   "metadata": {},
   "source": [
    "# Input data"
   ]
  },
  {
   "cell_type": "code",
   "execution_count": 13,
   "id": "2a16120c",
   "metadata": {},
   "outputs": [],
   "source": [
    "input_data = '31-05-2022'"
   ]
  },
  {
   "cell_type": "markdown",
   "id": "5cc116d9",
   "metadata": {},
   "source": [
    "# Formatando data"
   ]
  },
  {
   "cell_type": "code",
   "execution_count": 14,
   "id": "438849a7",
   "metadata": {},
   "outputs": [
    {
     "data": {
      "text/plain": [
       "datetime.datetime(2022, 5, 31, 0, 0)"
      ]
     },
     "execution_count": 14,
     "metadata": {},
     "output_type": "execute_result"
    }
   ],
   "source": [
    "input_data = datetime.datetime.strptime(input_data, \"%d-%m-%Y\")\n",
    "input_data"
   ]
  },
  {
   "cell_type": "code",
   "execution_count": 15,
   "id": "adbb02e2",
   "metadata": {},
   "outputs": [
    {
     "data": {
      "text/plain": [
       "'2022-05-31'"
      ]
     },
     "execution_count": 15,
     "metadata": {},
     "output_type": "execute_result"
    }
   ],
   "source": [
    "input_data = input_data.strftime(\"%Y-%m-%d\")\n",
    "input_data"
   ]
  },
  {
   "cell_type": "code",
   "execution_count": 16,
   "id": "2199e09d",
   "metadata": {},
   "outputs": [
    {
     "data": {
      "text/plain": [
       "'20220531'"
      ]
     },
     "execution_count": 16,
     "metadata": {},
     "output_type": "execute_result"
    }
   ],
   "source": [
    "input_data = input_data.replace('-','')\n",
    "input_data"
   ]
  },
  {
   "cell_type": "markdown",
   "id": "323ce58b",
   "metadata": {},
   "source": [
    "# Acessando dados do vacinomêtro"
   ]
  },
  {
   "cell_type": "code",
   "execution_count": 6,
   "id": "d71fbf28",
   "metadata": {},
   "outputs": [],
   "source": [
    "driver = webdriver.Chrome()\n"
   ]
  },
  {
   "cell_type": "code",
   "execution_count": 7,
   "id": "08ecf6cb",
   "metadata": {},
   "outputs": [],
   "source": [
    "driver.set_page_load_timeout(120)\n"
   ]
  },
  {
   "cell_type": "code",
   "execution_count": 8,
   "id": "aa31376e",
   "metadata": {},
   "outputs": [],
   "source": [
    "url = \"https://www.saopaulo.sp.gov.br/planosp/simi/dados-abertos/\""
   ]
  },
  {
   "cell_type": "code",
   "execution_count": 9,
   "id": "8d499f3f",
   "metadata": {},
   "outputs": [],
   "source": [
    "driver.get(url)"
   ]
  },
  {
   "cell_type": "code",
   "execution_count": 10,
   "id": "5282c51c",
   "metadata": {},
   "outputs": [
    {
     "name": "stderr",
     "output_type": "stream",
     "text": [
      "C:\\Users\\janaina\\AppData\\Local\\Temp/ipykernel_1972/284254041.py:1: DeprecationWarning: find_element_by_* commands are deprecated. Please use find_element() instead\n",
      "  driver.find_element_by_xpath('/html/body/section[4]/div/div/article[14]/h3/span').click()\n"
     ]
    }
   ],
   "source": [
    "driver.find_element_by_xpath('/html/body/section[4]/div/div/article[14]/h3/span').click()\n"
   ]
  },
  {
   "cell_type": "code",
   "execution_count": 11,
   "id": "9c6393da",
   "metadata": {},
   "outputs": [],
   "source": [
    "driver.set_page_load_timeout(10)"
   ]
  },
  {
   "cell_type": "code",
   "execution_count": 12,
   "id": "5a3bf6eb",
   "metadata": {},
   "outputs": [
    {
     "name": "stderr",
     "output_type": "stream",
     "text": [
      "C:\\Users\\janaina\\AppData\\Local\\Temp/ipykernel_1972/107494549.py:1: DeprecationWarning: find_element_by_* commands are deprecated. Please use find_element() instead\n",
      "  driver.find_element_by_xpath('/html/body/section[4]/div/div/article[14]/div/ul/li/div/a/span[2]').click()\n"
     ]
    }
   ],
   "source": [
    "driver.find_element_by_xpath('/html/body/section[4]/div/div/article[14]/div/ul/li/div/a/span[2]').click()"
   ]
  },
  {
   "cell_type": "markdown",
   "id": "240ffde5",
   "metadata": {},
   "source": [
    "# Armazenando arquivo"
   ]
  },
  {
   "cell_type": "code",
   "execution_count": 17,
   "id": "f070d5f1",
   "metadata": {},
   "outputs": [
    {
     "data": {
      "text/plain": [
       "'C:/Users/janaina/Downloads/20220531_vacinometro.csv'"
      ]
     },
     "execution_count": 17,
     "metadata": {},
     "output_type": "execute_result"
    }
   ],
   "source": [
    "path = 'C:/Users/janaina/Downloads/' + input_data + '_vacinometro' +'.csv'\n",
    "path"
   ]
  },
  {
   "cell_type": "code",
   "execution_count": 18,
   "id": "b5588cd8",
   "metadata": {},
   "outputs": [
    {
     "data": {
      "text/html": [
       "<div>\n",
       "<style scoped>\n",
       "    .dataframe tbody tr th:only-of-type {\n",
       "        vertical-align: middle;\n",
       "    }\n",
       "\n",
       "    .dataframe tbody tr th {\n",
       "        vertical-align: top;\n",
       "    }\n",
       "\n",
       "    .dataframe thead th {\n",
       "        text-align: right;\n",
       "    }\n",
       "</style>\n",
       "<table border=\"1\" class=\"dataframe\">\n",
       "  <thead>\n",
       "    <tr style=\"text-align: right;\">\n",
       "      <th></th>\n",
       "      <th>Município</th>\n",
       "      <th>Dose</th>\n",
       "      <th>Total Doses Aplicadas</th>\n",
       "    </tr>\n",
       "  </thead>\n",
       "  <tbody>\n",
       "    <tr>\n",
       "      <th>0</th>\n",
       "      <td>ZACARIAS</td>\n",
       "      <td>UNICA</td>\n",
       "      <td>74</td>\n",
       "    </tr>\n",
       "    <tr>\n",
       "      <th>1</th>\n",
       "      <td>VOTUPORANGA</td>\n",
       "      <td>UNICA</td>\n",
       "      <td>2367</td>\n",
       "    </tr>\n",
       "    <tr>\n",
       "      <th>2</th>\n",
       "      <td>VOTORANTIM</td>\n",
       "      <td>UNICA</td>\n",
       "      <td>3335</td>\n",
       "    </tr>\n",
       "    <tr>\n",
       "      <th>3</th>\n",
       "      <td>VITÓRIA BRASIL</td>\n",
       "      <td>UNICA</td>\n",
       "      <td>37</td>\n",
       "    </tr>\n",
       "    <tr>\n",
       "      <th>4</th>\n",
       "      <td>VISTA ALEGRE DO ALTO</td>\n",
       "      <td>UNICA</td>\n",
       "      <td>266</td>\n",
       "    </tr>\n",
       "    <tr>\n",
       "      <th>...</th>\n",
       "      <td>...</td>\n",
       "      <td>...</td>\n",
       "      <td>...</td>\n",
       "    </tr>\n",
       "    <tr>\n",
       "      <th>2577</th>\n",
       "      <td>ÁGUAS DE LINDÓIA</td>\n",
       "      <td>1° DOSE</td>\n",
       "      <td>17574</td>\n",
       "    </tr>\n",
       "    <tr>\n",
       "      <th>2578</th>\n",
       "      <td>ÁGUAS DA PRATA</td>\n",
       "      <td>1° DOSE</td>\n",
       "      <td>7179</td>\n",
       "    </tr>\n",
       "    <tr>\n",
       "      <th>2579</th>\n",
       "      <td>AGUAÍ</td>\n",
       "      <td>1° DOSE</td>\n",
       "      <td>30655</td>\n",
       "    </tr>\n",
       "    <tr>\n",
       "      <th>2580</th>\n",
       "      <td>ADOLFO</td>\n",
       "      <td>1° DOSE</td>\n",
       "      <td>4192</td>\n",
       "    </tr>\n",
       "    <tr>\n",
       "      <th>2581</th>\n",
       "      <td>ADAMANTINA</td>\n",
       "      <td>1° DOSE</td>\n",
       "      <td>31788</td>\n",
       "    </tr>\n",
       "  </tbody>\n",
       "</table>\n",
       "<p>2582 rows × 3 columns</p>\n",
       "</div>"
      ],
      "text/plain": [
       "                 Município     Dose  Total Doses Aplicadas\n",
       "0                 ZACARIAS    UNICA                     74\n",
       "1              VOTUPORANGA    UNICA                   2367\n",
       "2               VOTORANTIM    UNICA                   3335\n",
       "3           VITÓRIA BRASIL    UNICA                     37\n",
       "4     VISTA ALEGRE DO ALTO    UNICA                    266\n",
       "...                    ...      ...                    ...\n",
       "2577      ÁGUAS DE LINDÓIA  1° DOSE                  17574\n",
       "2578        ÁGUAS DA PRATA  1° DOSE                   7179\n",
       "2579                 AGUAÍ  1° DOSE                  30655\n",
       "2580                ADOLFO  1° DOSE                   4192\n",
       "2581            ADAMANTINA  1° DOSE                  31788\n",
       "\n",
       "[2582 rows x 3 columns]"
      ]
     },
     "execution_count": 18,
     "metadata": {},
     "output_type": "execute_result"
    }
   ],
   "source": [
    "df_vacinometro = pd.read_csv(path,sep=';')\n",
    "df_vacinometro"
   ]
  },
  {
   "cell_type": "code",
   "execution_count": 19,
   "id": "2ad6642d",
   "metadata": {},
   "outputs": [],
   "source": [
    "df_vacinometro['Competencia'] = input_data"
   ]
  },
  {
   "cell_type": "code",
   "execution_count": 20,
   "id": "e74c9024",
   "metadata": {},
   "outputs": [],
   "source": [
    "#df_vacinometro.to_csv('C:/Users/janaina/Desktop/VOTORANTIM/CURSOS/FORMACAO_POWER_BI/Extracao_arquivo/BASES_DADOS/_vacinometro' +'.csv',encoding='utf-8')"
   ]
  },
  {
   "cell_type": "code",
   "execution_count": 21,
   "id": "71799819",
   "metadata": {},
   "outputs": [],
   "source": [
    "df_vacinometro.to_excel('C:/Users/janaina/Desktop/VOTORANTIM/CURSOS/FORMACAO_POWER_BI/Extracao_arquivo/BASES_DADOS/_vacinometro' +'.xlsx',encoding='utf-8',index=False)"
   ]
  },
  {
   "cell_type": "code",
   "execution_count": null,
   "id": "44b92614",
   "metadata": {},
   "outputs": [],
   "source": []
  },
  {
   "cell_type": "code",
   "execution_count": null,
   "id": "565e9076",
   "metadata": {},
   "outputs": [],
   "source": []
  },
  {
   "cell_type": "code",
   "execution_count": null,
   "id": "9c7c618f",
   "metadata": {},
   "outputs": [],
   "source": []
  },
  {
   "cell_type": "code",
   "execution_count": null,
   "id": "b640dc1b",
   "metadata": {},
   "outputs": [],
   "source": []
  },
  {
   "cell_type": "code",
   "execution_count": null,
   "id": "f4051a32",
   "metadata": {},
   "outputs": [],
   "source": []
  },
  {
   "cell_type": "code",
   "execution_count": null,
   "id": "6b61a795",
   "metadata": {},
   "outputs": [],
   "source": []
  },
  {
   "cell_type": "code",
   "execution_count": null,
   "id": "ea0ab3c5",
   "metadata": {},
   "outputs": [],
   "source": []
  },
  {
   "cell_type": "code",
   "execution_count": null,
   "id": "af9cb038",
   "metadata": {},
   "outputs": [],
   "source": []
  },
  {
   "cell_type": "code",
   "execution_count": null,
   "id": "89eaafaf",
   "metadata": {},
   "outputs": [],
   "source": []
  },
  {
   "cell_type": "code",
   "execution_count": null,
   "id": "2fef5302",
   "metadata": {},
   "outputs": [],
   "source": []
  },
  {
   "cell_type": "code",
   "execution_count": null,
   "id": "e0854aec",
   "metadata": {},
   "outputs": [],
   "source": []
  },
  {
   "cell_type": "code",
   "execution_count": null,
   "id": "21d73f23",
   "metadata": {},
   "outputs": [],
   "source": []
  },
  {
   "cell_type": "code",
   "execution_count": null,
   "id": "3cc23d84",
   "metadata": {},
   "outputs": [],
   "source": []
  },
  {
   "cell_type": "code",
   "execution_count": null,
   "id": "8b9517aa",
   "metadata": {},
   "outputs": [],
   "source": []
  },
  {
   "cell_type": "code",
   "execution_count": null,
   "id": "92bff29a",
   "metadata": {},
   "outputs": [],
   "source": []
  },
  {
   "cell_type": "code",
   "execution_count": null,
   "id": "c6c2d965",
   "metadata": {},
   "outputs": [],
   "source": []
  },
  {
   "cell_type": "code",
   "execution_count": null,
   "id": "92d78164",
   "metadata": {},
   "outputs": [],
   "source": []
  },
  {
   "cell_type": "code",
   "execution_count": null,
   "id": "888b8f90",
   "metadata": {},
   "outputs": [],
   "source": []
  },
  {
   "cell_type": "code",
   "execution_count": null,
   "id": "c7e129e7",
   "metadata": {},
   "outputs": [],
   "source": []
  },
  {
   "cell_type": "code",
   "execution_count": null,
   "id": "a7208031",
   "metadata": {},
   "outputs": [],
   "source": []
  },
  {
   "cell_type": "code",
   "execution_count": null,
   "id": "13d98524",
   "metadata": {},
   "outputs": [],
   "source": []
  }
 ],
 "metadata": {
  "kernelspec": {
   "display_name": "Python 3 (ipykernel)",
   "language": "python",
   "name": "python3"
  },
  "language_info": {
   "codemirror_mode": {
    "name": "ipython",
    "version": 3
   },
   "file_extension": ".py",
   "mimetype": "text/x-python",
   "name": "python",
   "nbconvert_exporter": "python",
   "pygments_lexer": "ipython3",
   "version": "3.9.7"
  }
 },
 "nbformat": 4,
 "nbformat_minor": 5
}
